{
  "nbformat": 4,
  "nbformat_minor": 0,
  "metadata": {
    "colab": {
      "provenance": [],
      "authorship_tag": "ABX9TyP5A8VIz0bYdLcNxunXCvyi",
      "include_colab_link": true
    },
    "kernelspec": {
      "name": "python3",
      "display_name": "Python 3"
    },
    "language_info": {
      "name": "python"
    }
  },
  "cells": [
    {
      "cell_type": "markdown",
      "metadata": {
        "id": "view-in-github",
        "colab_type": "text"
      },
      "source": [
        "<a href=\"https://colab.research.google.com/github/lmdss1294/My_section1_project/blob/main/Section1_project.ipynb\" target=\"_parent\"><img src=\"https://colab.research.google.com/assets/colab-badge.svg\" alt=\"Open In Colab\"/></a>"
      ]
    },
    {
      "cell_type": "code",
      "execution_count": null,
      "metadata": {
        "id": "VeqUkdQASGLT"
      },
      "outputs": [],
      "source": [
        "url =\"https://raw.githubusercontent.com/lmdss1294/My_section1_project/main/vgames2.csv\""
      ]
    },
    {
      "cell_type": "code",
      "source": [
        "import pandas as pd\n",
        "\n",
        "df = pd.read_csv(url)"
      ],
      "metadata": {
        "id": "JaPNLXSpSMB0"
      },
      "execution_count": null,
      "outputs": []
    },
    {
      "cell_type": "code",
      "source": [
        "df"
      ],
      "metadata": {
        "colab": {
          "base_uri": "https://localhost:8080/",
          "height": 423
        },
        "id": "Z1BD-nQwSUyL",
        "outputId": "4ffeebfb-f4a7-4bb6-d914-c8c1e98f4fc3"
      },
      "execution_count": null,
      "outputs": [
        {
          "output_type": "execute_result",
          "data": {
            "text/plain": [
              "       Unnamed: 0                                            Name Platform  \\\n",
              "0               1                    Candace Kane's Candy Factory       DS   \n",
              "1               2                                  The Munchables      Wii   \n",
              "2               3  Otome wa Oanesama Boku ni Koi Shiteru Portable      PSP   \n",
              "3               4                Deal or No Deal: Special Edition       DS   \n",
              "4               5       Ben 10 Ultimate Alien: Cosmic Destruction      PS3   \n",
              "...           ...                                             ...      ...   \n",
              "16593       16594                         Ice Age 2: The Meltdown       GC   \n",
              "16594       16595                     Rainbow Islands: Revolution      PSP   \n",
              "16595       16596                                        NBA 2K16      PS3   \n",
              "16596       16597                     Toukiden: The Age of Demons      PSV   \n",
              "16597       16598                        The King of Fighters '95       PS   \n",
              "\n",
              "         Year      Genre                    Publisher  NA_Sales  EU_Sales  \\\n",
              "0      2008.0     Action                    Destineer      0.04      0.00   \n",
              "1      2009.0     Action           Namco Bandai Games      0.17      0.00   \n",
              "2      2010.0  Adventure                    Alchemist      0.00      0.00   \n",
              "3      2010.0       Misc                    Zoo Games      0.04      0.00   \n",
              "4      2010.0   Platform                  D3Publisher      0.12      0.09   \n",
              "...       ...        ...                          ...       ...       ...   \n",
              "16593  2006.0   Platform                Vivendi Games      0.15      0.04   \n",
              "16594  2005.0     Action            Rising Star Games      0.01      0.00   \n",
              "16595  2015.0     Sports         Take-Two Interactive      0.44      0.19   \n",
              "16596  2013.0     Action                   Tecmo Koei      0.05      0.05   \n",
              "16597  1996.0   Fighting  Sony Computer Entertainment      0.00      0.00   \n",
              "\n",
              "       JP_Sales  Other_Sales  \n",
              "0          0.00         0.00  \n",
              "1          0.00         0.01  \n",
              "2          0.02         0.00  \n",
              "3          0.00         0.00  \n",
              "4          0.00         0.04  \n",
              "...         ...          ...  \n",
              "16593      0.00         0.01  \n",
              "16594      0.00         0.00  \n",
              "16595      0.03         0.13  \n",
              "16596      0.25         0.03  \n",
              "16597      0.16         0.01  \n",
              "\n",
              "[16598 rows x 10 columns]"
            ],
            "text/html": [
              "\n",
              "  <div id=\"df-331bc0c9-8a06-4409-aa9f-403e28d592a8\">\n",
              "    <div class=\"colab-df-container\">\n",
              "      <div>\n",
              "<style scoped>\n",
              "    .dataframe tbody tr th:only-of-type {\n",
              "        vertical-align: middle;\n",
              "    }\n",
              "\n",
              "    .dataframe tbody tr th {\n",
              "        vertical-align: top;\n",
              "    }\n",
              "\n",
              "    .dataframe thead th {\n",
              "        text-align: right;\n",
              "    }\n",
              "</style>\n",
              "<table border=\"1\" class=\"dataframe\">\n",
              "  <thead>\n",
              "    <tr style=\"text-align: right;\">\n",
              "      <th></th>\n",
              "      <th>Unnamed: 0</th>\n",
              "      <th>Name</th>\n",
              "      <th>Platform</th>\n",
              "      <th>Year</th>\n",
              "      <th>Genre</th>\n",
              "      <th>Publisher</th>\n",
              "      <th>NA_Sales</th>\n",
              "      <th>EU_Sales</th>\n",
              "      <th>JP_Sales</th>\n",
              "      <th>Other_Sales</th>\n",
              "    </tr>\n",
              "  </thead>\n",
              "  <tbody>\n",
              "    <tr>\n",
              "      <th>0</th>\n",
              "      <td>1</td>\n",
              "      <td>Candace Kane's Candy Factory</td>\n",
              "      <td>DS</td>\n",
              "      <td>2008.0</td>\n",
              "      <td>Action</td>\n",
              "      <td>Destineer</td>\n",
              "      <td>0.04</td>\n",
              "      <td>0.00</td>\n",
              "      <td>0.00</td>\n",
              "      <td>0.00</td>\n",
              "    </tr>\n",
              "    <tr>\n",
              "      <th>1</th>\n",
              "      <td>2</td>\n",
              "      <td>The Munchables</td>\n",
              "      <td>Wii</td>\n",
              "      <td>2009.0</td>\n",
              "      <td>Action</td>\n",
              "      <td>Namco Bandai Games</td>\n",
              "      <td>0.17</td>\n",
              "      <td>0.00</td>\n",
              "      <td>0.00</td>\n",
              "      <td>0.01</td>\n",
              "    </tr>\n",
              "    <tr>\n",
              "      <th>2</th>\n",
              "      <td>3</td>\n",
              "      <td>Otome wa Oanesama Boku ni Koi Shiteru Portable</td>\n",
              "      <td>PSP</td>\n",
              "      <td>2010.0</td>\n",
              "      <td>Adventure</td>\n",
              "      <td>Alchemist</td>\n",
              "      <td>0.00</td>\n",
              "      <td>0.00</td>\n",
              "      <td>0.02</td>\n",
              "      <td>0.00</td>\n",
              "    </tr>\n",
              "    <tr>\n",
              "      <th>3</th>\n",
              "      <td>4</td>\n",
              "      <td>Deal or No Deal: Special Edition</td>\n",
              "      <td>DS</td>\n",
              "      <td>2010.0</td>\n",
              "      <td>Misc</td>\n",
              "      <td>Zoo Games</td>\n",
              "      <td>0.04</td>\n",
              "      <td>0.00</td>\n",
              "      <td>0.00</td>\n",
              "      <td>0.00</td>\n",
              "    </tr>\n",
              "    <tr>\n",
              "      <th>4</th>\n",
              "      <td>5</td>\n",
              "      <td>Ben 10 Ultimate Alien: Cosmic Destruction</td>\n",
              "      <td>PS3</td>\n",
              "      <td>2010.0</td>\n",
              "      <td>Platform</td>\n",
              "      <td>D3Publisher</td>\n",
              "      <td>0.12</td>\n",
              "      <td>0.09</td>\n",
              "      <td>0.00</td>\n",
              "      <td>0.04</td>\n",
              "    </tr>\n",
              "    <tr>\n",
              "      <th>...</th>\n",
              "      <td>...</td>\n",
              "      <td>...</td>\n",
              "      <td>...</td>\n",
              "      <td>...</td>\n",
              "      <td>...</td>\n",
              "      <td>...</td>\n",
              "      <td>...</td>\n",
              "      <td>...</td>\n",
              "      <td>...</td>\n",
              "      <td>...</td>\n",
              "    </tr>\n",
              "    <tr>\n",
              "      <th>16593</th>\n",
              "      <td>16594</td>\n",
              "      <td>Ice Age 2: The Meltdown</td>\n",
              "      <td>GC</td>\n",
              "      <td>2006.0</td>\n",
              "      <td>Platform</td>\n",
              "      <td>Vivendi Games</td>\n",
              "      <td>0.15</td>\n",
              "      <td>0.04</td>\n",
              "      <td>0.00</td>\n",
              "      <td>0.01</td>\n",
              "    </tr>\n",
              "    <tr>\n",
              "      <th>16594</th>\n",
              "      <td>16595</td>\n",
              "      <td>Rainbow Islands: Revolution</td>\n",
              "      <td>PSP</td>\n",
              "      <td>2005.0</td>\n",
              "      <td>Action</td>\n",
              "      <td>Rising Star Games</td>\n",
              "      <td>0.01</td>\n",
              "      <td>0.00</td>\n",
              "      <td>0.00</td>\n",
              "      <td>0.00</td>\n",
              "    </tr>\n",
              "    <tr>\n",
              "      <th>16595</th>\n",
              "      <td>16596</td>\n",
              "      <td>NBA 2K16</td>\n",
              "      <td>PS3</td>\n",
              "      <td>2015.0</td>\n",
              "      <td>Sports</td>\n",
              "      <td>Take-Two Interactive</td>\n",
              "      <td>0.44</td>\n",
              "      <td>0.19</td>\n",
              "      <td>0.03</td>\n",
              "      <td>0.13</td>\n",
              "    </tr>\n",
              "    <tr>\n",
              "      <th>16596</th>\n",
              "      <td>16597</td>\n",
              "      <td>Toukiden: The Age of Demons</td>\n",
              "      <td>PSV</td>\n",
              "      <td>2013.0</td>\n",
              "      <td>Action</td>\n",
              "      <td>Tecmo Koei</td>\n",
              "      <td>0.05</td>\n",
              "      <td>0.05</td>\n",
              "      <td>0.25</td>\n",
              "      <td>0.03</td>\n",
              "    </tr>\n",
              "    <tr>\n",
              "      <th>16597</th>\n",
              "      <td>16598</td>\n",
              "      <td>The King of Fighters '95</td>\n",
              "      <td>PS</td>\n",
              "      <td>1996.0</td>\n",
              "      <td>Fighting</td>\n",
              "      <td>Sony Computer Entertainment</td>\n",
              "      <td>0.00</td>\n",
              "      <td>0.00</td>\n",
              "      <td>0.16</td>\n",
              "      <td>0.01</td>\n",
              "    </tr>\n",
              "  </tbody>\n",
              "</table>\n",
              "<p>16598 rows × 10 columns</p>\n",
              "</div>\n",
              "      <button class=\"colab-df-convert\" onclick=\"convertToInteractive('df-331bc0c9-8a06-4409-aa9f-403e28d592a8')\"\n",
              "              title=\"Convert this dataframe to an interactive table.\"\n",
              "              style=\"display:none;\">\n",
              "        \n",
              "  <svg xmlns=\"http://www.w3.org/2000/svg\" height=\"24px\"viewBox=\"0 0 24 24\"\n",
              "       width=\"24px\">\n",
              "    <path d=\"M0 0h24v24H0V0z\" fill=\"none\"/>\n",
              "    <path d=\"M18.56 5.44l.94 2.06.94-2.06 2.06-.94-2.06-.94-.94-2.06-.94 2.06-2.06.94zm-11 1L8.5 8.5l.94-2.06 2.06-.94-2.06-.94L8.5 2.5l-.94 2.06-2.06.94zm10 10l.94 2.06.94-2.06 2.06-.94-2.06-.94-.94-2.06-.94 2.06-2.06.94z\"/><path d=\"M17.41 7.96l-1.37-1.37c-.4-.4-.92-.59-1.43-.59-.52 0-1.04.2-1.43.59L10.3 9.45l-7.72 7.72c-.78.78-.78 2.05 0 2.83L4 21.41c.39.39.9.59 1.41.59.51 0 1.02-.2 1.41-.59l7.78-7.78 2.81-2.81c.8-.78.8-2.07 0-2.86zM5.41 20L4 18.59l7.72-7.72 1.47 1.35L5.41 20z\"/>\n",
              "  </svg>\n",
              "      </button>\n",
              "      \n",
              "  <style>\n",
              "    .colab-df-container {\n",
              "      display:flex;\n",
              "      flex-wrap:wrap;\n",
              "      gap: 12px;\n",
              "    }\n",
              "\n",
              "    .colab-df-convert {\n",
              "      background-color: #E8F0FE;\n",
              "      border: none;\n",
              "      border-radius: 50%;\n",
              "      cursor: pointer;\n",
              "      display: none;\n",
              "      fill: #1967D2;\n",
              "      height: 32px;\n",
              "      padding: 0 0 0 0;\n",
              "      width: 32px;\n",
              "    }\n",
              "\n",
              "    .colab-df-convert:hover {\n",
              "      background-color: #E2EBFA;\n",
              "      box-shadow: 0px 1px 2px rgba(60, 64, 67, 0.3), 0px 1px 3px 1px rgba(60, 64, 67, 0.15);\n",
              "      fill: #174EA6;\n",
              "    }\n",
              "\n",
              "    [theme=dark] .colab-df-convert {\n",
              "      background-color: #3B4455;\n",
              "      fill: #D2E3FC;\n",
              "    }\n",
              "\n",
              "    [theme=dark] .colab-df-convert:hover {\n",
              "      background-color: #434B5C;\n",
              "      box-shadow: 0px 1px 3px 1px rgba(0, 0, 0, 0.15);\n",
              "      filter: drop-shadow(0px 1px 2px rgba(0, 0, 0, 0.3));\n",
              "      fill: #FFFFFF;\n",
              "    }\n",
              "  </style>\n",
              "\n",
              "      <script>\n",
              "        const buttonEl =\n",
              "          document.querySelector('#df-331bc0c9-8a06-4409-aa9f-403e28d592a8 button.colab-df-convert');\n",
              "        buttonEl.style.display =\n",
              "          google.colab.kernel.accessAllowed ? 'block' : 'none';\n",
              "\n",
              "        async function convertToInteractive(key) {\n",
              "          const element = document.querySelector('#df-331bc0c9-8a06-4409-aa9f-403e28d592a8');\n",
              "          const dataTable =\n",
              "            await google.colab.kernel.invokeFunction('convertToInteractive',\n",
              "                                                     [key], {});\n",
              "          if (!dataTable) return;\n",
              "\n",
              "          const docLinkHtml = 'Like what you see? Visit the ' +\n",
              "            '<a target=\"_blank\" href=https://colab.research.google.com/notebooks/data_table.ipynb>data table notebook</a>'\n",
              "            + ' to learn more about interactive tables.';\n",
              "          element.innerHTML = '';\n",
              "          dataTable['output_type'] = 'display_data';\n",
              "          await google.colab.output.renderOutput(dataTable, element);\n",
              "          const docLink = document.createElement('div');\n",
              "          docLink.innerHTML = docLinkHtml;\n",
              "          element.appendChild(docLink);\n",
              "        }\n",
              "      </script>\n",
              "    </div>\n",
              "  </div>\n",
              "  "
            ]
          },
          "metadata": {},
          "execution_count": 128
        }
      ]
    },
    {
      "cell_type": "code",
      "source": [
        "df.info()"
      ],
      "metadata": {
        "colab": {
          "base_uri": "https://localhost:8080/"
        },
        "id": "2ySGQW_ibI2e",
        "outputId": "7b54bfdf-8927-4a87-ba02-f53197737808"
      },
      "execution_count": null,
      "outputs": [
        {
          "output_type": "stream",
          "name": "stdout",
          "text": [
            "<class 'pandas.core.frame.DataFrame'>\n",
            "RangeIndex: 16598 entries, 0 to 16597\n",
            "Data columns (total 10 columns):\n",
            " #   Column       Non-Null Count  Dtype  \n",
            "---  ------       --------------  -----  \n",
            " 0   Unnamed: 0   16598 non-null  int64  \n",
            " 1   Name         16598 non-null  object \n",
            " 2   Platform     16598 non-null  object \n",
            " 3   Year         16327 non-null  float64\n",
            " 4   Genre        16548 non-null  object \n",
            " 5   Publisher    16540 non-null  object \n",
            " 6   NA_Sales     16598 non-null  float64\n",
            " 7   EU_Sales     16598 non-null  float64\n",
            " 8   JP_Sales     16598 non-null  float64\n",
            " 9   Other_Sales  16598 non-null  float64\n",
            "dtypes: float64(5), int64(1), object(4)\n",
            "memory usage: 1.3+ MB\n"
          ]
        }
      ]
    },
    {
      "cell_type": "code",
      "source": [
        "df = df.dropna()"
      ],
      "metadata": {
        "id": "495klIZ6pW2e"
      },
      "execution_count": null,
      "outputs": []
    },
    {
      "cell_type": "code",
      "source": [
        "df.drop_duplicates(subset='Name', keep='first',inplace =False)"
      ],
      "metadata": {
        "colab": {
          "base_uri": "https://localhost:8080/",
          "height": 423
        },
        "id": "0sQhAQu6pnK-",
        "outputId": "633bc1ae-8211-4284-a1bc-585c1ed56072"
      },
      "execution_count": null,
      "outputs": [
        {
          "output_type": "execute_result",
          "data": {
            "text/plain": [
              "       Unnamed: 0                                            Name Platform  \\\n",
              "0               1                    Candace Kane's Candy Factory       DS   \n",
              "1               2                                  The Munchables      Wii   \n",
              "2               3  Otome wa Oanesama Boku ni Koi Shiteru Portable      PSP   \n",
              "3               4                Deal or No Deal: Special Edition       DS   \n",
              "4               5       Ben 10 Ultimate Alien: Cosmic Destruction      PS3   \n",
              "...           ...                                             ...      ...   \n",
              "16586       16587      Jikkyou Powerful Pro Yakyuu 2000 Ketteiban       PS   \n",
              "16589       16590                         Namco Soccer Prime Goal       PS   \n",
              "16590       16591         White Album: Tsuzurareru Fuyu no Omoide      PS3   \n",
              "16592       16593                                Minna no Chizu 2      PSP   \n",
              "16594       16595                     Rainbow Islands: Revolution      PSP   \n",
              "\n",
              "         Year      Genre                     Publisher  NA_Sales  EU_Sales  \\\n",
              "0      2008.0     Action                     Destineer      0.04      0.00   \n",
              "1      2009.0     Action            Namco Bandai Games      0.17      0.00   \n",
              "2      2010.0  Adventure                     Alchemist      0.00      0.00   \n",
              "3      2010.0       Misc                     Zoo Games      0.04      0.00   \n",
              "4      2010.0   Platform                   D3Publisher      0.12      0.09   \n",
              "...       ...        ...                           ...       ...       ...   \n",
              "16586  2000.0     Sports  Konami Digital Entertainment      0.00      0.00   \n",
              "16589  1995.0     Sports   Sony Computer Entertainment      0.00      0.00   \n",
              "16590  2010.0  Adventure                     Aqua Plus      0.00      0.00   \n",
              "16592  2007.0       Misc                        Zenrin      0.00      0.00   \n",
              "16594  2005.0     Action             Rising Star Games      0.01      0.00   \n",
              "\n",
              "       JP_Sales  Other_Sales  \n",
              "0          0.00         0.00  \n",
              "1          0.00         0.01  \n",
              "2          0.02         0.00  \n",
              "3          0.00         0.00  \n",
              "4          0.00         0.04  \n",
              "...         ...          ...  \n",
              "16586      0.08         0.01  \n",
              "16589      0.12         0.01  \n",
              "16590      0.05         0.00  \n",
              "16592      0.02         0.00  \n",
              "16594      0.00         0.00  \n",
              "\n",
              "[11295 rows x 10 columns]"
            ],
            "text/html": [
              "\n",
              "  <div id=\"df-dc6774c9-5f49-4ba4-af70-bd34af9f37d3\">\n",
              "    <div class=\"colab-df-container\">\n",
              "      <div>\n",
              "<style scoped>\n",
              "    .dataframe tbody tr th:only-of-type {\n",
              "        vertical-align: middle;\n",
              "    }\n",
              "\n",
              "    .dataframe tbody tr th {\n",
              "        vertical-align: top;\n",
              "    }\n",
              "\n",
              "    .dataframe thead th {\n",
              "        text-align: right;\n",
              "    }\n",
              "</style>\n",
              "<table border=\"1\" class=\"dataframe\">\n",
              "  <thead>\n",
              "    <tr style=\"text-align: right;\">\n",
              "      <th></th>\n",
              "      <th>Unnamed: 0</th>\n",
              "      <th>Name</th>\n",
              "      <th>Platform</th>\n",
              "      <th>Year</th>\n",
              "      <th>Genre</th>\n",
              "      <th>Publisher</th>\n",
              "      <th>NA_Sales</th>\n",
              "      <th>EU_Sales</th>\n",
              "      <th>JP_Sales</th>\n",
              "      <th>Other_Sales</th>\n",
              "    </tr>\n",
              "  </thead>\n",
              "  <tbody>\n",
              "    <tr>\n",
              "      <th>0</th>\n",
              "      <td>1</td>\n",
              "      <td>Candace Kane's Candy Factory</td>\n",
              "      <td>DS</td>\n",
              "      <td>2008.0</td>\n",
              "      <td>Action</td>\n",
              "      <td>Destineer</td>\n",
              "      <td>0.04</td>\n",
              "      <td>0.00</td>\n",
              "      <td>0.00</td>\n",
              "      <td>0.00</td>\n",
              "    </tr>\n",
              "    <tr>\n",
              "      <th>1</th>\n",
              "      <td>2</td>\n",
              "      <td>The Munchables</td>\n",
              "      <td>Wii</td>\n",
              "      <td>2009.0</td>\n",
              "      <td>Action</td>\n",
              "      <td>Namco Bandai Games</td>\n",
              "      <td>0.17</td>\n",
              "      <td>0.00</td>\n",
              "      <td>0.00</td>\n",
              "      <td>0.01</td>\n",
              "    </tr>\n",
              "    <tr>\n",
              "      <th>2</th>\n",
              "      <td>3</td>\n",
              "      <td>Otome wa Oanesama Boku ni Koi Shiteru Portable</td>\n",
              "      <td>PSP</td>\n",
              "      <td>2010.0</td>\n",
              "      <td>Adventure</td>\n",
              "      <td>Alchemist</td>\n",
              "      <td>0.00</td>\n",
              "      <td>0.00</td>\n",
              "      <td>0.02</td>\n",
              "      <td>0.00</td>\n",
              "    </tr>\n",
              "    <tr>\n",
              "      <th>3</th>\n",
              "      <td>4</td>\n",
              "      <td>Deal or No Deal: Special Edition</td>\n",
              "      <td>DS</td>\n",
              "      <td>2010.0</td>\n",
              "      <td>Misc</td>\n",
              "      <td>Zoo Games</td>\n",
              "      <td>0.04</td>\n",
              "      <td>0.00</td>\n",
              "      <td>0.00</td>\n",
              "      <td>0.00</td>\n",
              "    </tr>\n",
              "    <tr>\n",
              "      <th>4</th>\n",
              "      <td>5</td>\n",
              "      <td>Ben 10 Ultimate Alien: Cosmic Destruction</td>\n",
              "      <td>PS3</td>\n",
              "      <td>2010.0</td>\n",
              "      <td>Platform</td>\n",
              "      <td>D3Publisher</td>\n",
              "      <td>0.12</td>\n",
              "      <td>0.09</td>\n",
              "      <td>0.00</td>\n",
              "      <td>0.04</td>\n",
              "    </tr>\n",
              "    <tr>\n",
              "      <th>...</th>\n",
              "      <td>...</td>\n",
              "      <td>...</td>\n",
              "      <td>...</td>\n",
              "      <td>...</td>\n",
              "      <td>...</td>\n",
              "      <td>...</td>\n",
              "      <td>...</td>\n",
              "      <td>...</td>\n",
              "      <td>...</td>\n",
              "      <td>...</td>\n",
              "    </tr>\n",
              "    <tr>\n",
              "      <th>16586</th>\n",
              "      <td>16587</td>\n",
              "      <td>Jikkyou Powerful Pro Yakyuu 2000 Ketteiban</td>\n",
              "      <td>PS</td>\n",
              "      <td>2000.0</td>\n",
              "      <td>Sports</td>\n",
              "      <td>Konami Digital Entertainment</td>\n",
              "      <td>0.00</td>\n",
              "      <td>0.00</td>\n",
              "      <td>0.08</td>\n",
              "      <td>0.01</td>\n",
              "    </tr>\n",
              "    <tr>\n",
              "      <th>16589</th>\n",
              "      <td>16590</td>\n",
              "      <td>Namco Soccer Prime Goal</td>\n",
              "      <td>PS</td>\n",
              "      <td>1995.0</td>\n",
              "      <td>Sports</td>\n",
              "      <td>Sony Computer Entertainment</td>\n",
              "      <td>0.00</td>\n",
              "      <td>0.00</td>\n",
              "      <td>0.12</td>\n",
              "      <td>0.01</td>\n",
              "    </tr>\n",
              "    <tr>\n",
              "      <th>16590</th>\n",
              "      <td>16591</td>\n",
              "      <td>White Album: Tsuzurareru Fuyu no Omoide</td>\n",
              "      <td>PS3</td>\n",
              "      <td>2010.0</td>\n",
              "      <td>Adventure</td>\n",
              "      <td>Aqua Plus</td>\n",
              "      <td>0.00</td>\n",
              "      <td>0.00</td>\n",
              "      <td>0.05</td>\n",
              "      <td>0.00</td>\n",
              "    </tr>\n",
              "    <tr>\n",
              "      <th>16592</th>\n",
              "      <td>16593</td>\n",
              "      <td>Minna no Chizu 2</td>\n",
              "      <td>PSP</td>\n",
              "      <td>2007.0</td>\n",
              "      <td>Misc</td>\n",
              "      <td>Zenrin</td>\n",
              "      <td>0.00</td>\n",
              "      <td>0.00</td>\n",
              "      <td>0.02</td>\n",
              "      <td>0.00</td>\n",
              "    </tr>\n",
              "    <tr>\n",
              "      <th>16594</th>\n",
              "      <td>16595</td>\n",
              "      <td>Rainbow Islands: Revolution</td>\n",
              "      <td>PSP</td>\n",
              "      <td>2005.0</td>\n",
              "      <td>Action</td>\n",
              "      <td>Rising Star Games</td>\n",
              "      <td>0.01</td>\n",
              "      <td>0.00</td>\n",
              "      <td>0.00</td>\n",
              "      <td>0.00</td>\n",
              "    </tr>\n",
              "  </tbody>\n",
              "</table>\n",
              "<p>11295 rows × 10 columns</p>\n",
              "</div>\n",
              "      <button class=\"colab-df-convert\" onclick=\"convertToInteractive('df-dc6774c9-5f49-4ba4-af70-bd34af9f37d3')\"\n",
              "              title=\"Convert this dataframe to an interactive table.\"\n",
              "              style=\"display:none;\">\n",
              "        \n",
              "  <svg xmlns=\"http://www.w3.org/2000/svg\" height=\"24px\"viewBox=\"0 0 24 24\"\n",
              "       width=\"24px\">\n",
              "    <path d=\"M0 0h24v24H0V0z\" fill=\"none\"/>\n",
              "    <path d=\"M18.56 5.44l.94 2.06.94-2.06 2.06-.94-2.06-.94-.94-2.06-.94 2.06-2.06.94zm-11 1L8.5 8.5l.94-2.06 2.06-.94-2.06-.94L8.5 2.5l-.94 2.06-2.06.94zm10 10l.94 2.06.94-2.06 2.06-.94-2.06-.94-.94-2.06-.94 2.06-2.06.94z\"/><path d=\"M17.41 7.96l-1.37-1.37c-.4-.4-.92-.59-1.43-.59-.52 0-1.04.2-1.43.59L10.3 9.45l-7.72 7.72c-.78.78-.78 2.05 0 2.83L4 21.41c.39.39.9.59 1.41.59.51 0 1.02-.2 1.41-.59l7.78-7.78 2.81-2.81c.8-.78.8-2.07 0-2.86zM5.41 20L4 18.59l7.72-7.72 1.47 1.35L5.41 20z\"/>\n",
              "  </svg>\n",
              "      </button>\n",
              "      \n",
              "  <style>\n",
              "    .colab-df-container {\n",
              "      display:flex;\n",
              "      flex-wrap:wrap;\n",
              "      gap: 12px;\n",
              "    }\n",
              "\n",
              "    .colab-df-convert {\n",
              "      background-color: #E8F0FE;\n",
              "      border: none;\n",
              "      border-radius: 50%;\n",
              "      cursor: pointer;\n",
              "      display: none;\n",
              "      fill: #1967D2;\n",
              "      height: 32px;\n",
              "      padding: 0 0 0 0;\n",
              "      width: 32px;\n",
              "    }\n",
              "\n",
              "    .colab-df-convert:hover {\n",
              "      background-color: #E2EBFA;\n",
              "      box-shadow: 0px 1px 2px rgba(60, 64, 67, 0.3), 0px 1px 3px 1px rgba(60, 64, 67, 0.15);\n",
              "      fill: #174EA6;\n",
              "    }\n",
              "\n",
              "    [theme=dark] .colab-df-convert {\n",
              "      background-color: #3B4455;\n",
              "      fill: #D2E3FC;\n",
              "    }\n",
              "\n",
              "    [theme=dark] .colab-df-convert:hover {\n",
              "      background-color: #434B5C;\n",
              "      box-shadow: 0px 1px 3px 1px rgba(0, 0, 0, 0.15);\n",
              "      filter: drop-shadow(0px 1px 2px rgba(0, 0, 0, 0.3));\n",
              "      fill: #FFFFFF;\n",
              "    }\n",
              "  </style>\n",
              "\n",
              "      <script>\n",
              "        const buttonEl =\n",
              "          document.querySelector('#df-dc6774c9-5f49-4ba4-af70-bd34af9f37d3 button.colab-df-convert');\n",
              "        buttonEl.style.display =\n",
              "          google.colab.kernel.accessAllowed ? 'block' : 'none';\n",
              "\n",
              "        async function convertToInteractive(key) {\n",
              "          const element = document.querySelector('#df-dc6774c9-5f49-4ba4-af70-bd34af9f37d3');\n",
              "          const dataTable =\n",
              "            await google.colab.kernel.invokeFunction('convertToInteractive',\n",
              "                                                     [key], {});\n",
              "          if (!dataTable) return;\n",
              "\n",
              "          const docLinkHtml = 'Like what you see? Visit the ' +\n",
              "            '<a target=\"_blank\" href=https://colab.research.google.com/notebooks/data_table.ipynb>data table notebook</a>'\n",
              "            + ' to learn more about interactive tables.';\n",
              "          element.innerHTML = '';\n",
              "          dataTable['output_type'] = 'display_data';\n",
              "          await google.colab.output.renderOutput(dataTable, element);\n",
              "          const docLink = document.createElement('div');\n",
              "          docLink.innerHTML = docLinkHtml;\n",
              "          element.appendChild(docLink);\n",
              "        }\n",
              "      </script>\n",
              "    </div>\n",
              "  </div>\n",
              "  "
            ]
          },
          "metadata": {},
          "execution_count": 141
        }
      ]
    },
    {
      "cell_type": "markdown",
      "source": [
        "데이터를 분석해보면 년도에 따른 부분보다는 장르, 그리고 플랫폼으로 구분하는 것이 더 좋다는 판단이 들었다. 또한 이름을 드랍하고 unnamed column을 드랍한다.df.drop으로 순살해주마. 그런다음 NA와 EU JP Other을 모두 더한 total sales column을 만든다."
      ],
      "metadata": {
        "id": "a8OeRZZuScDV"
      }
    },
    {
      "cell_type": "markdown",
      "source": [
        " 지역은 어떻게 구분했는지 설명함\n",
        "\n",
        " 지역별로 선호하는 게임의 장르를 파악함\n",
        " \n",
        " 지역별로 선호하는 게임의 장르가 왜 같다고/다르다고 생각했는지를 설명함"
      ],
      "metadata": {
        "id": "wx7iOWiqW1y8"
      }
    },
    {
      "cell_type": "code",
      "source": [
        "L = ['NA_Sales','EU_Sales','JP_Sales','Other_Sales']\n",
        "\n",
        "for i in L:\n",
        "  df[i] = df[i].replace({'K': '*1e-3', 'M': '*1'}, regex=True).map(pd.eval).astype(float)\n",
        "  df[i]=df[i].astype('float')\n"
      ],
      "metadata": {
        "colab": {
          "base_uri": "https://localhost:8080/"
        },
        "id": "fNnKnSnHmnt1",
        "outputId": "066f64f7-6b18-47f8-84bb-8d63ec966a18"
      },
      "execution_count": null,
      "outputs": [
        {
          "output_type": "stream",
          "name": "stderr",
          "text": [
            "<ipython-input-142-163c703bb5b6>:4: SettingWithCopyWarning: \n",
            "A value is trying to be set on a copy of a slice from a DataFrame.\n",
            "Try using .loc[row_indexer,col_indexer] = value instead\n",
            "\n",
            "See the caveats in the documentation: https://pandas.pydata.org/pandas-docs/stable/user_guide/indexing.html#returning-a-view-versus-a-copy\n",
            "  df[i] = df[i].replace({'K': '*1e-3', 'M': '*1'}, regex=True).map(pd.eval).astype(float)\n",
            "<ipython-input-142-163c703bb5b6>:5: SettingWithCopyWarning: \n",
            "A value is trying to be set on a copy of a slice from a DataFrame.\n",
            "Try using .loc[row_indexer,col_indexer] = value instead\n",
            "\n",
            "See the caveats in the documentation: https://pandas.pydata.org/pandas-docs/stable/user_guide/indexing.html#returning-a-view-versus-a-copy\n",
            "  df[i]=df[i].astype('float')\n"
          ]
        }
      ]
    },
    {
      "cell_type": "code",
      "source": [
        "df.info()"
      ],
      "metadata": {
        "colab": {
          "base_uri": "https://localhost:8080/"
        },
        "id": "9JLmxzq4oD85",
        "outputId": "45e9461f-66d3-4dcc-c31a-6b0cb3e3655d"
      },
      "execution_count": null,
      "outputs": [
        {
          "output_type": "stream",
          "name": "stdout",
          "text": [
            "<class 'pandas.core.frame.DataFrame'>\n",
            "Int64Index: 16241 entries, 0 to 16597\n",
            "Data columns (total 10 columns):\n",
            " #   Column       Non-Null Count  Dtype  \n",
            "---  ------       --------------  -----  \n",
            " 0   Unnamed: 0   16241 non-null  int64  \n",
            " 1   Name         16241 non-null  object \n",
            " 2   Platform     16241 non-null  object \n",
            " 3   Year         16241 non-null  float64\n",
            " 4   Genre        16241 non-null  object \n",
            " 5   Publisher    16241 non-null  object \n",
            " 6   NA_Sales     16241 non-null  float64\n",
            " 7   EU_Sales     16241 non-null  float64\n",
            " 8   JP_Sales     16241 non-null  float64\n",
            " 9   Other_Sales  16241 non-null  float64\n",
            "dtypes: float64(5), int64(1), object(4)\n",
            "memory usage: 1.4+ MB\n"
          ]
        }
      ]
    },
    {
      "cell_type": "code",
      "source": [
        "L"
      ],
      "metadata": {
        "colab": {
          "base_uri": "https://localhost:8080/",
          "height": 457
        },
        "id": "IvXXc0pC7WQI",
        "outputId": "d4f50baa-a4b6-4fe7-d97d-20f8f47c18f1"
      },
      "execution_count": null,
      "outputs": [
        {
          "output_type": "execute_result",
          "data": {
            "text/plain": [
              "              NA_Sales  EU_Sales  JP_Sales  Other_Sales  Total_sales\n",
              "Genre                                                               \n",
              "Action        0.265046  0.158531  0.048333     0.056787     0.528698\n",
              "Adventure     0.080276  0.050205  0.040907     0.013170     0.184558\n",
              "Fighting      0.263892  0.119641  0.104359     0.043293     0.531186\n",
              "Misc          0.234819  0.123825  0.061975     0.043212     0.463831\n",
              "Platform      0.510172  0.229817  0.149519     0.058935     0.948442\n",
              "Puzzle        0.214806  0.089170  0.099364     0.021979     0.425318\n",
              "Racing        0.290976  0.192797  0.046202     0.062765     0.592740\n",
              "Role-Playing  0.217584  0.124976  0.234082     0.038724     0.615365\n",
              "Shooter       0.448813  0.242367  0.029828     0.079578     0.800586\n",
              "Simulation    0.214456  0.133558  0.075106     0.037021     0.460142\n",
              "Sports        0.290239  0.161361  0.058617     0.057569     0.567786\n",
              "Strategy      0.101390  0.066996  0.073393     0.016786     0.258565"
            ],
            "text/html": [
              "\n",
              "  <div id=\"df-2ea33c84-ea94-40f6-b1a9-48af44b151b1\">\n",
              "    <div class=\"colab-df-container\">\n",
              "      <div>\n",
              "<style scoped>\n",
              "    .dataframe tbody tr th:only-of-type {\n",
              "        vertical-align: middle;\n",
              "    }\n",
              "\n",
              "    .dataframe tbody tr th {\n",
              "        vertical-align: top;\n",
              "    }\n",
              "\n",
              "    .dataframe thead th {\n",
              "        text-align: right;\n",
              "    }\n",
              "</style>\n",
              "<table border=\"1\" class=\"dataframe\">\n",
              "  <thead>\n",
              "    <tr style=\"text-align: right;\">\n",
              "      <th></th>\n",
              "      <th>NA_Sales</th>\n",
              "      <th>EU_Sales</th>\n",
              "      <th>JP_Sales</th>\n",
              "      <th>Other_Sales</th>\n",
              "      <th>Total_sales</th>\n",
              "    </tr>\n",
              "    <tr>\n",
              "      <th>Genre</th>\n",
              "      <th></th>\n",
              "      <th></th>\n",
              "      <th></th>\n",
              "      <th></th>\n",
              "      <th></th>\n",
              "    </tr>\n",
              "  </thead>\n",
              "  <tbody>\n",
              "    <tr>\n",
              "      <th>Action</th>\n",
              "      <td>0.265046</td>\n",
              "      <td>0.158531</td>\n",
              "      <td>0.048333</td>\n",
              "      <td>0.056787</td>\n",
              "      <td>0.528698</td>\n",
              "    </tr>\n",
              "    <tr>\n",
              "      <th>Adventure</th>\n",
              "      <td>0.080276</td>\n",
              "      <td>0.050205</td>\n",
              "      <td>0.040907</td>\n",
              "      <td>0.013170</td>\n",
              "      <td>0.184558</td>\n",
              "    </tr>\n",
              "    <tr>\n",
              "      <th>Fighting</th>\n",
              "      <td>0.263892</td>\n",
              "      <td>0.119641</td>\n",
              "      <td>0.104359</td>\n",
              "      <td>0.043293</td>\n",
              "      <td>0.531186</td>\n",
              "    </tr>\n",
              "    <tr>\n",
              "      <th>Misc</th>\n",
              "      <td>0.234819</td>\n",
              "      <td>0.123825</td>\n",
              "      <td>0.061975</td>\n",
              "      <td>0.043212</td>\n",
              "      <td>0.463831</td>\n",
              "    </tr>\n",
              "    <tr>\n",
              "      <th>Platform</th>\n",
              "      <td>0.510172</td>\n",
              "      <td>0.229817</td>\n",
              "      <td>0.149519</td>\n",
              "      <td>0.058935</td>\n",
              "      <td>0.948442</td>\n",
              "    </tr>\n",
              "    <tr>\n",
              "      <th>Puzzle</th>\n",
              "      <td>0.214806</td>\n",
              "      <td>0.089170</td>\n",
              "      <td>0.099364</td>\n",
              "      <td>0.021979</td>\n",
              "      <td>0.425318</td>\n",
              "    </tr>\n",
              "    <tr>\n",
              "      <th>Racing</th>\n",
              "      <td>0.290976</td>\n",
              "      <td>0.192797</td>\n",
              "      <td>0.046202</td>\n",
              "      <td>0.062765</td>\n",
              "      <td>0.592740</td>\n",
              "    </tr>\n",
              "    <tr>\n",
              "      <th>Role-Playing</th>\n",
              "      <td>0.217584</td>\n",
              "      <td>0.124976</td>\n",
              "      <td>0.234082</td>\n",
              "      <td>0.038724</td>\n",
              "      <td>0.615365</td>\n",
              "    </tr>\n",
              "    <tr>\n",
              "      <th>Shooter</th>\n",
              "      <td>0.448813</td>\n",
              "      <td>0.242367</td>\n",
              "      <td>0.029828</td>\n",
              "      <td>0.079578</td>\n",
              "      <td>0.800586</td>\n",
              "    </tr>\n",
              "    <tr>\n",
              "      <th>Simulation</th>\n",
              "      <td>0.214456</td>\n",
              "      <td>0.133558</td>\n",
              "      <td>0.075106</td>\n",
              "      <td>0.037021</td>\n",
              "      <td>0.460142</td>\n",
              "    </tr>\n",
              "    <tr>\n",
              "      <th>Sports</th>\n",
              "      <td>0.290239</td>\n",
              "      <td>0.161361</td>\n",
              "      <td>0.058617</td>\n",
              "      <td>0.057569</td>\n",
              "      <td>0.567786</td>\n",
              "    </tr>\n",
              "    <tr>\n",
              "      <th>Strategy</th>\n",
              "      <td>0.101390</td>\n",
              "      <td>0.066996</td>\n",
              "      <td>0.073393</td>\n",
              "      <td>0.016786</td>\n",
              "      <td>0.258565</td>\n",
              "    </tr>\n",
              "  </tbody>\n",
              "</table>\n",
              "</div>\n",
              "      <button class=\"colab-df-convert\" onclick=\"convertToInteractive('df-2ea33c84-ea94-40f6-b1a9-48af44b151b1')\"\n",
              "              title=\"Convert this dataframe to an interactive table.\"\n",
              "              style=\"display:none;\">\n",
              "        \n",
              "  <svg xmlns=\"http://www.w3.org/2000/svg\" height=\"24px\"viewBox=\"0 0 24 24\"\n",
              "       width=\"24px\">\n",
              "    <path d=\"M0 0h24v24H0V0z\" fill=\"none\"/>\n",
              "    <path d=\"M18.56 5.44l.94 2.06.94-2.06 2.06-.94-2.06-.94-.94-2.06-.94 2.06-2.06.94zm-11 1L8.5 8.5l.94-2.06 2.06-.94-2.06-.94L8.5 2.5l-.94 2.06-2.06.94zm10 10l.94 2.06.94-2.06 2.06-.94-2.06-.94-.94-2.06-.94 2.06-2.06.94z\"/><path d=\"M17.41 7.96l-1.37-1.37c-.4-.4-.92-.59-1.43-.59-.52 0-1.04.2-1.43.59L10.3 9.45l-7.72 7.72c-.78.78-.78 2.05 0 2.83L4 21.41c.39.39.9.59 1.41.59.51 0 1.02-.2 1.41-.59l7.78-7.78 2.81-2.81c.8-.78.8-2.07 0-2.86zM5.41 20L4 18.59l7.72-7.72 1.47 1.35L5.41 20z\"/>\n",
              "  </svg>\n",
              "      </button>\n",
              "      \n",
              "  <style>\n",
              "    .colab-df-container {\n",
              "      display:flex;\n",
              "      flex-wrap:wrap;\n",
              "      gap: 12px;\n",
              "    }\n",
              "\n",
              "    .colab-df-convert {\n",
              "      background-color: #E8F0FE;\n",
              "      border: none;\n",
              "      border-radius: 50%;\n",
              "      cursor: pointer;\n",
              "      display: none;\n",
              "      fill: #1967D2;\n",
              "      height: 32px;\n",
              "      padding: 0 0 0 0;\n",
              "      width: 32px;\n",
              "    }\n",
              "\n",
              "    .colab-df-convert:hover {\n",
              "      background-color: #E2EBFA;\n",
              "      box-shadow: 0px 1px 2px rgba(60, 64, 67, 0.3), 0px 1px 3px 1px rgba(60, 64, 67, 0.15);\n",
              "      fill: #174EA6;\n",
              "    }\n",
              "\n",
              "    [theme=dark] .colab-df-convert {\n",
              "      background-color: #3B4455;\n",
              "      fill: #D2E3FC;\n",
              "    }\n",
              "\n",
              "    [theme=dark] .colab-df-convert:hover {\n",
              "      background-color: #434B5C;\n",
              "      box-shadow: 0px 1px 3px 1px rgba(0, 0, 0, 0.15);\n",
              "      filter: drop-shadow(0px 1px 2px rgba(0, 0, 0, 0.3));\n",
              "      fill: #FFFFFF;\n",
              "    }\n",
              "  </style>\n",
              "\n",
              "      <script>\n",
              "        const buttonEl =\n",
              "          document.querySelector('#df-2ea33c84-ea94-40f6-b1a9-48af44b151b1 button.colab-df-convert');\n",
              "        buttonEl.style.display =\n",
              "          google.colab.kernel.accessAllowed ? 'block' : 'none';\n",
              "\n",
              "        async function convertToInteractive(key) {\n",
              "          const element = document.querySelector('#df-2ea33c84-ea94-40f6-b1a9-48af44b151b1');\n",
              "          const dataTable =\n",
              "            await google.colab.kernel.invokeFunction('convertToInteractive',\n",
              "                                                     [key], {});\n",
              "          if (!dataTable) return;\n",
              "\n",
              "          const docLinkHtml = 'Like what you see? Visit the ' +\n",
              "            '<a target=\"_blank\" href=https://colab.research.google.com/notebooks/data_table.ipynb>data table notebook</a>'\n",
              "            + ' to learn more about interactive tables.';\n",
              "          element.innerHTML = '';\n",
              "          dataTable['output_type'] = 'display_data';\n",
              "          await google.colab.output.renderOutput(dataTable, element);\n",
              "          const docLink = document.createElement('div');\n",
              "          docLink.innerHTML = docLinkHtml;\n",
              "          element.appendChild(docLink);\n",
              "        }\n",
              "      </script>\n",
              "    </div>\n",
              "  </div>\n",
              "  "
            ]
          },
          "metadata": {},
          "execution_count": 190
        }
      ]
    },
    {
      "cell_type": "code",
      "source": [
        "L = df.groupby('Genre')['NA_Sales','EU_Sales','JP_Sales','Other_Sales'].mean()"
      ],
      "metadata": {
        "colab": {
          "base_uri": "https://localhost:8080/"
        },
        "id": "-_h9vM9QoZNn",
        "outputId": "f86c14f9-0d21-413a-e40b-c0749653528d"
      },
      "execution_count": null,
      "outputs": [
        {
          "output_type": "stream",
          "name": "stderr",
          "text": [
            "<ipython-input-152-3a603bbd544b>:1: FutureWarning: Indexing with multiple keys (implicitly converted to a tuple of keys) will be deprecated, use a list instead.\n",
            "  L = df.groupby('Genre')['NA_Sales','EU_Sales','JP_Sales','Other_Sales'].mean()\n"
          ]
        }
      ]
    },
    {
      "cell_type": "code",
      "source": [
        "L[\"Total_sales\"] = L.sum(axis=1)"
      ],
      "metadata": {
        "id": "uIlQ6stzriL1"
      },
      "execution_count": null,
      "outputs": []
    },
    {
      "cell_type": "code",
      "source": [
        "NA_Sales = L['NA_Sales'].sort_values(ascending = False)"
      ],
      "metadata": {
        "id": "DbcOaftJsi-4"
      },
      "execution_count": null,
      "outputs": []
    },
    {
      "cell_type": "code",
      "source": [
        "EU_Sales=L['EU_Sales'].sort_values(ascending = False)"
      ],
      "metadata": {
        "id": "Lh4HyWQpuUQs"
      },
      "execution_count": null,
      "outputs": []
    },
    {
      "cell_type": "code",
      "source": [
        "JP_Sales=L['JP_Sales'].sort_values(ascending = False)"
      ],
      "metadata": {
        "id": "GVw1QByRuYSb"
      },
      "execution_count": null,
      "outputs": []
    },
    {
      "cell_type": "code",
      "source": [
        "Other_Sales=L['Other_Sales'].sort_values(ascending = False)"
      ],
      "metadata": {
        "id": "tvQRQYGmufIs"
      },
      "execution_count": null,
      "outputs": []
    },
    {
      "cell_type": "code",
      "source": [
        "import matplotlib.pyplot as plt"
      ],
      "metadata": {
        "id": "7dq-mp2yyWLK"
      },
      "execution_count": null,
      "outputs": []
    },
    {
      "cell_type": "code",
      "source": [
        "NA_Sales"
      ],
      "metadata": {
        "colab": {
          "base_uri": "https://localhost:8080/"
        },
        "id": "shCNzhnjywxh",
        "outputId": "091f5ac6-18d5-491d-9f55-037a1796611b"
      },
      "execution_count": null,
      "outputs": [
        {
          "output_type": "execute_result",
          "data": {
            "text/plain": [
              "Genre\n",
              "Platform        0.510172\n",
              "Shooter         0.448813\n",
              "Racing          0.290976\n",
              "Sports          0.290239\n",
              "Action          0.265046\n",
              "Fighting        0.263892\n",
              "Misc            0.234819\n",
              "Role-Playing    0.217584\n",
              "Puzzle          0.214806\n",
              "Simulation      0.214456\n",
              "Strategy        0.101390\n",
              "Adventure       0.080276\n",
              "Name: NA_Sales, dtype: float64"
            ]
          },
          "metadata": {},
          "execution_count": 195
        }
      ]
    },
    {
      "cell_type": "code",
      "source": [
        "\n",
        "plt.pie(NA_Sales,labels = NA_Sales.index,autopct='%.1f%%')"
      ],
      "metadata": {
        "colab": {
          "base_uri": "https://localhost:8080/",
          "height": 912
        },
        "id": "rz9jOXpQyKE2",
        "outputId": "0a02df7a-bc88-4f3a-da60-fb2448edf43c"
      },
      "execution_count": null,
      "outputs": [
        {
          "output_type": "execute_result",
          "data": {
            "text/plain": [
              "([<matplotlib.patches.Wedge at 0x7f4a729093d0>,\n",
              "  <matplotlib.patches.Wedge at 0x7f4a72909be0>,\n",
              "  <matplotlib.patches.Wedge at 0x7f4a728f5130>,\n",
              "  <matplotlib.patches.Wedge at 0x7f4a728f5850>,\n",
              "  <matplotlib.patches.Wedge at 0x7f4a728f5f70>,\n",
              "  <matplotlib.patches.Wedge at 0x7f4a72aca760>,\n",
              "  <matplotlib.patches.Wedge at 0x7f4a72acae80>,\n",
              "  <matplotlib.patches.Wedge at 0x7f4a72ae55e0>,\n",
              "  <matplotlib.patches.Wedge at 0x7f4a72ae5400>,\n",
              "  <matplotlib.patches.Wedge at 0x7f4a72af53d0>,\n",
              "  <matplotlib.patches.Wedge at 0x7f4a729093a0>,\n",
              "  <matplotlib.patches.Wedge at 0x7f4a72aea220>],\n",
              " [Text(0.9591273723580147, 0.5385858182254806, 'Platform'),\n",
              "  Text(0.10692774016114878, 1.094790600244645, 'Shooter'),\n",
              "  Text(-0.6609514771140679, 0.8792855877931424, 'Racing'),\n",
              "  Text(-1.0358120180555639, 0.3702613445279704, 'Sports'),\n",
              "  Text(-1.0750020453037117, -0.23317504710589615, 'Action'),\n",
              "  Text(-0.8092846923825168, -0.7450223397156192, 'Fighting'),\n",
              "  Text(-0.35286115506718346, -1.0418680363868802, 'Misc'),\n",
              "  Text(0.1395037131658896, -1.0911181026877563, 'Role-Playing'),\n",
              "  Text(0.5850620564639326, -0.9315054428645031, 'Puzzle'),\n",
              "  Text(0.9204274678614386, -0.6023398346499927, 'Simulation'),\n",
              "  Text(1.0622601545089903, -0.28566302550826633, 'Strategy'),\n",
              "  Text(1.0964369327800938, -0.0884649785835049, 'Adventure')],\n",
              " [Text(0.5231603849225535, 0.2937740826684439, '16.3%'),\n",
              "  Text(0.05832422190608115, 0.5971585092243518, '14.3%'),\n",
              "  Text(-0.36051898751676426, 0.47961032061444125, '9.3%'),\n",
              "  Text(-0.564988373484853, 0.20196073337889292, '9.3%'),\n",
              "  Text(-0.5863647519838426, -0.12718638933048879, '8.5%'),\n",
              "  Text(-0.4414280140268273, -0.40637582166306496, '8.4%'),\n",
              "  Text(-0.19246972094573642, -0.5682916562110255, '7.5%'),\n",
              "  Text(0.07609293445412159, -0.5951553287387762, '6.9%'),\n",
              "  Text(0.31912475807123597, -0.5080938779260925, '6.9%'),\n",
              "  Text(0.5020513461062391, -0.32854900071817783, '6.8%'),\n",
              "  Text(0.5794146297321764, -0.1558161957317816, '3.2%'),\n",
              "  Text(0.5980565087891421, -0.04825362468191176, '2.6%')])"
            ]
          },
          "metadata": {},
          "execution_count": 196
        },
        {
          "output_type": "display_data",
          "data": {
            "text/plain": [
              "<Figure size 432x288 with 1 Axes>"
            ],
            "image/png": "[encoded data removed]"
          },
          "metadata": {}
        }
      ]
    },
    {
      "cell_type": "markdown",
      "source": [
        "미국에서는 플랫폼게임이 인기가 있다는 것을 알 수 있다"
      ],
      "metadata": {
        "id": "Ixq1L8jkzyBp"
      }
    },
    {
      "cell_type": "code",
      "source": [
        "\n",
        "plt.pie(JP_Sales,labels = JP_Sales.index,autopct='%.1f%%')"
      ],
      "metadata": {
        "colab": {
          "base_uri": "https://localhost:8080/",
          "height": 912
        },
        "id": "Arjb376czQ4k",
        "outputId": "2441c781-9f19-4c2f-e6ad-162b22f5fb28"
      },
      "execution_count": null,
      "outputs": [
        {
          "output_type": "execute_result",
          "data": {
            "text/plain": [
              "([<matplotlib.patches.Wedge at 0x7f4a72920dc0>,\n",
              "  <matplotlib.patches.Wedge at 0x7f4a7291d310>,\n",
              "  <matplotlib.patches.Wedge at 0x7f4a7291da30>,\n",
              "  <matplotlib.patches.Wedge at 0x7f4a72837190>,\n",
              "  <matplotlib.patches.Wedge at 0x7f4a728378b0>,\n",
              "  <matplotlib.patches.Wedge at 0x7f4a72837fd0>,\n",
              "  <matplotlib.patches.Wedge at 0x7f4a7283d730>,\n",
              "  <matplotlib.patches.Wedge at 0x7f4a7283de50>,\n",
              "  <matplotlib.patches.Wedge at 0x7f4a728435b0>,\n",
              "  <matplotlib.patches.Wedge at 0x7f4a72843cd0>,\n",
              "  <matplotlib.patches.Wedge at 0x7f4a72920d90>,\n",
              "  <matplotlib.patches.Wedge at 0x7f4a7282cb20>],\n",
              " [Text(0.8271450448419675, 0.7251421066200608, 'Role-Playing'),\n",
              "  Text(-0.3549101958298899, 1.0411718171829227, 'Platform'),\n",
              "  Text(-0.9848652774446587, 0.48993916488055494, 'Fighting'),\n",
              "  Text(-1.0850943545779566, -0.1804722739454674, 'Puzzle'),\n",
              "  Text(-0.8404103861350114, -0.7097255687069484, 'Simulation'),\n",
              "  Text(-0.44137574173200383, -1.0075651118466358, 'Strategy'),\n",
              "  Text(0.003699476440833893, -1.0999937790160743, 'Misc'),\n",
              "  Text(0.4020524098120373, -1.0238915273427813, 'Sports'),\n",
              "  Text(0.7111891210517577, -0.8391722314862596, 'Action'),\n",
              "  Text(0.921868397352736, -0.6001322004044594, 'Racing'),\n",
              "  Text(1.0478273174098072, -0.3347505233599608, 'Adventure'),\n",
              "  Text(1.095376433377899, -0.10074953697319483, 'Shooter')],\n",
              " [Text(0.4511700244592549, 0.39553205815639675, '22.9%'),\n",
              "  Text(-0.1935873795435763, 0.5679119002815941, '14.6%'),\n",
              "  Text(-0.537199242242541, 0.2672395444803027, '10.2%'),\n",
              "  Text(-0.5918696479516127, -0.0984394221520731, '9.7%'),\n",
              "  Text(-0.4584056651645516, -0.3871230374765172, '7.4%'),\n",
              "  Text(-0.24075040458109298, -0.5495809700981649, '7.2%'),\n",
              "  Text(0.0020178962404548504, -0.5999966067360404, '6.1%'),\n",
              "  Text(0.2193013144429294, -0.5584862876415171, '5.7%'),\n",
              "  Text(0.38792133875550416, -0.4577303080834143, '4.7%'),\n",
              "  Text(0.5028373076469469, -0.32734483658425056, '4.5%'),\n",
              "  Text(0.571542173132622, -0.1825911945599786, '4.0%'),\n",
              "  Text(0.5974780545697631, -0.0549542928944699, '2.9%')])"
            ]
          },
          "metadata": {},
          "execution_count": 197
        },
        {
          "output_type": "display_data",
          "data": {
            "text/plain": [
              "<Figure size 432x288 with 1 Axes>"
            ],
            "image/png": "[encoded data removed]"
          },
          "metadata": {}
        }
      ]
    },
    {
      "cell_type": "markdown",
      "source": [
        "일본에서는 롤플레잉 게임이 인기가 많다는 것을 알 수 있었다."
      ],
      "metadata": {
        "id": "_U-f6Boi6_NY"
      }
    },
    {
      "cell_type": "code",
      "source": [
        "plt.pie(EU_Sales,labels = EU_Sales.index,autopct='%.1f%%')"
      ],
      "metadata": {
        "colab": {
          "base_uri": "https://localhost:8080/",
          "height": 912
        },
        "id": "G8aAz2YZ7lbO",
        "outputId": "766c33c6-eb04-41f9-9f8c-425ea541d639"
      },
      "execution_count": null,
      "outputs": [
        {
          "output_type": "execute_result",
          "data": {
            "text/plain": [
              "([<matplotlib.patches.Wedge at 0x7f4a72854df0>,\n",
              "  <matplotlib.patches.Wedge at 0x7f4a72872460>,\n",
              "  <matplotlib.patches.Wedge at 0x7f4a72872b80>,\n",
              "  <matplotlib.patches.Wedge at 0x7f4a7277c2e0>,\n",
              "  <matplotlib.patches.Wedge at 0x7f4a7277ca00>,\n",
              "  <matplotlib.patches.Wedge at 0x7f4a72761160>,\n",
              "  <matplotlib.patches.Wedge at 0x7f4a72761880>,\n",
              "  <matplotlib.patches.Wedge at 0x7f4a72761fa0>,\n",
              "  <matplotlib.patches.Wedge at 0x7f4a72775700>,\n",
              "  <matplotlib.patches.Wedge at 0x7f4a72775e20>,\n",
              "  <matplotlib.patches.Wedge at 0x7f4a72854dc0>,\n",
              "  <matplotlib.patches.Wedge at 0x7f4a728b5c40>],\n",
              " [Text(0.9906445123867483, 0.4781458460323814, 'Shooter'),\n",
              "  Text(0.2668544883448541, 1.067140422835817, 'Platform'),\n",
              "  Text(-0.5646676940418419, 0.9440076246013425, 'Racing'),\n",
              "  Text(-1.0237052830743398, 0.40252638845880157, 'Sports'),\n",
              "  Text(-1.07375459694116, -0.23885364880555515, 'Action'),\n",
              "  Text(-0.796701013488145, -0.7584639049466776, 'Simulation'),\n",
              "  Text(-0.35676387714722074, -1.040538099236584, 'Role-Playing'),\n",
              "  Text(0.14403064554588152, -1.09052976719741, 'Misc'),\n",
              "  Text(0.6056143387623385, -0.9182762507467215, 'Fighting'),\n",
              "  Text(0.9076561672443398, -0.6214179608470574, 'Puzzle'),\n",
              "  Text(1.0473657963248717, -0.33619174393308265, 'Strategy'),\n",
              "  Text(1.0952313006467929, -0.10231518989639114, 'Adventure')],\n",
              " [Text(0.5403515522109535, 0.26080682510857167, '14.3%'),\n",
              "  Text(0.14555699364264768, 0.582076594274082, '13.6%'),\n",
              "  Text(-0.30800056038645923, 0.5149132497825504, '11.4%'),\n",
              "  Text(-0.5583846998587307, 0.2195598482502554, '9.5%'),\n",
              "  Text(-0.585684325604269, -0.1302838084393937, '9.4%'),\n",
              "  Text(-0.4345641891753518, -0.4137075845163695, '7.9%'),\n",
              "  Text(-0.19459847844393857, -0.5675662359472275, '7.4%'),\n",
              "  Text(0.07856217029775354, -0.5948344184713144, '7.3%'),\n",
              "  Text(0.3303350938703664, -0.5008779549527571, '7.1%'),\n",
              "  Text(0.49508518213327624, -0.3389552513711222, '5.3%'),\n",
              "  Text(0.5712904343590209, -0.18337731487259054, '4.0%'),\n",
              "  Text(0.5973988912618869, -0.055808285398031524, '3.0%')])"
            ]
          },
          "metadata": {},
          "execution_count": 198
        },
        {
          "output_type": "display_data",
          "data": {
            "text/plain": [
              "<Figure size 432x288 with 1 Axes>"
            ],
            "image/png": "[encoded data removed]"
          },
          "metadata": {}
        }
      ]
    },
    {
      "cell_type": "markdown",
      "source": [
        "유럽에서는 슈팅게임이 인기가 많다는 것을 알 수 있었다."
      ],
      "metadata": {
        "id": "s93xnKxr7pw0"
      }
    },
    {
      "cell_type": "code",
      "source": [
        "plt.pie(Other_Sales,labels = Other_Sales.index,autopct='%.1f%%')"
      ],
      "metadata": {
        "colab": {
          "base_uri": "https://localhost:8080/",
          "height": 912
        },
        "id": "vkUkOvtR73oZ",
        "outputId": "5d93d1fd-de90-4a9b-9960-e79847b29278"
      },
      "execution_count": null,
      "outputs": [
        {
          "output_type": "execute_result",
          "data": {
            "text/plain": [
              "([<matplotlib.patches.Wedge at 0x7f4a720ec520>,\n",
              "  <matplotlib.patches.Wedge at 0x7f4a720ecb50>,\n",
              "  <matplotlib.patches.Wedge at 0x7f4a720f82b0>,\n",
              "  <matplotlib.patches.Wedge at 0x7f4a720f89d0>,\n",
              "  <matplotlib.patches.Wedge at 0x7f4a72087130>,\n",
              "  <matplotlib.patches.Wedge at 0x7f4a72087850>,\n",
              "  <matplotlib.patches.Wedge at 0x7f4a72087f70>,\n",
              "  <matplotlib.patches.Wedge at 0x7f4a720956d0>,\n",
              "  <matplotlib.patches.Wedge at 0x7f4a72095e20>,\n",
              "  <matplotlib.patches.Wedge at 0x7f4a720a0580>,\n",
              "  <matplotlib.patches.Wedge at 0x7f4a720ec4f0>,\n",
              "  <matplotlib.patches.Wedge at 0x7f4a720ae3d0>],\n",
              " [Text(0.9797952291689154, 0.5000013088961196, 'Shooter'),\n",
              "  Text(0.27736755897193094, 1.064456310625266, 'Racing'),\n",
              "  Text(-0.49495465470658057, 0.9823542588009122, 'Platform'),\n",
              "  Text(-1.0073961548697845, 0.44176123319455446, 'Sports'),\n",
              "  Text(-1.061655477135658, -0.2879021498145822, 'Action'),\n",
              "  Text(-0.719141993972004, -0.8323669818691576, 'Fighting'),\n",
              "  Text(-0.21811453586004936, -1.0781586382562427, 'Misc'),\n",
              "  Text(0.31057673059432095, -1.055245039985189, 'Role-Playing'),\n",
              "  Text(0.7379464991126429, -0.8157419717333382, 'Simulation'),\n",
              "  Text(0.9728430688185155, -0.5133968868738624, 'Puzzle'),\n",
              "  Text(1.0642285063047427, -0.27824033921841096, 'Strategy'),\n",
              "  Text(1.0966473964754235, -0.08581659398784959, 'Adventure')],\n",
              " [Text(0.5344337613648629, 0.27272798667061066, '15.0%'),\n",
              "  Text(0.1512913958028714, 0.5806125330683268, '11.8%'),\n",
              "  Text(-0.26997526620358936, 0.5358295957095884, '11.1%'),\n",
              "  Text(-0.5494888117471551, 0.24096067265157514, '10.9%'),\n",
              "  Text(-0.5790848057103589, -0.15703753626249933, '10.7%'),\n",
              "  Text(-0.39225926943927486, -0.45401835374681315, '8.2%'),\n",
              "  Text(-0.11897156501457237, -0.5880865299579504, '8.2%'),\n",
              "  Text(0.16940548941508415, -0.5755882036282848, '7.3%'),\n",
              "  Text(0.40251627224325975, -0.44495016640000257, '7.0%'),\n",
              "  Text(0.5306416739010084, -0.2800346655675613, '4.1%'),\n",
              "  Text(0.5804882761662232, -0.15176745775549685, '3.2%'),\n",
              "  Text(0.5981713071684127, -0.04680905126609977, '2.5%')])"
            ]
          },
          "metadata": {},
          "execution_count": 199
        },
        {
          "output_type": "display_data",
          "data": {
            "text/plain": [
              "<Figure size 432x288 with 1 Axes>"
            ],
            "image/png": "[encoded data removed]"
          },
          "metadata": {}
        }
      ]
    },
    {
      "cell_type": "markdown",
      "source": [
        "다른 국가에서는 슈팅게임이 가장 인기가 많다는 것을 알 수 있다."
      ],
      "metadata": {
        "id": "DcksLGGI8EM5"
      }
    },
    {
      "cell_type": "markdown",
      "source": [
        "Total_Sales=L['Total_sales'].sort_values(ascending = False)"
      ],
      "metadata": {
        "id": "zXHpEHPg8MkH"
      }
    },
    {
      "cell_type": "markdown",
      "source": [
        "Total_Sales=L['Total_sales'].sort_values(ascending = False)"
      ],
      "metadata": {
        "id": "iMQkohkb8RFZ"
      }
    },
    {
      "cell_type": "code",
      "source": [
        "Total_Sales=L['Total_sales'].sort_values(ascending = False)"
      ],
      "metadata": {
        "id": "COzGrDGf8Rkp"
      },
      "execution_count": null,
      "outputs": []
    },
    {
      "cell_type": "code",
      "source": [
        "plt.pie(Total_Sales,labels = Total_Sales.index,autopct='%.1f%%')"
      ],
      "metadata": {
        "colab": {
          "base_uri": "https://localhost:8080/",
          "height": 912
        },
        "id": "adHutcQf8V1Z",
        "outputId": "606df7c9-9c33-4e6f-8d84-6f2635476072"
      },
      "execution_count": null,
      "outputs": [
        {
          "output_type": "execute_result",
          "data": {
            "text/plain": [
              "([<matplotlib.patches.Wedge at 0x7f4a71e896a0>,\n",
              "  <matplotlib.patches.Wedge at 0x7f4a71e89cd0>,\n",
              "  <matplotlib.patches.Wedge at 0x7f4a71e98430>,\n",
              "  <matplotlib.patches.Wedge at 0x7f4a71e98b50>,\n",
              "  <matplotlib.patches.Wedge at 0x7f4a71ea62b0>,\n",
              "  <matplotlib.patches.Wedge at 0x7f4a71ea69d0>,\n",
              "  <matplotlib.patches.Wedge at 0x7f4a71eb3130>,\n",
              "  <matplotlib.patches.Wedge at 0x7f4a71eb3880>,\n",
              "  <matplotlib.patches.Wedge at 0x7f4a71eb3fa0>,\n",
              "  <matplotlib.patches.Wedge at 0x7f4a71ec2700>,\n",
              "  <matplotlib.patches.Wedge at 0x7f4a71e89670>,\n",
              "  <matplotlib.patches.Wedge at 0x7f4a71e50550>],\n",
              " [Text(0.9821019203869427, 0.49545516242368454, 'Platform'),\n",
              "  Text(0.26355394449378805, 1.0679603542930634, 'Shooter'),\n",
              "  Text(-0.48398983720608707, 0.9878025295985152, 'Role-Playing'),\n",
              "  Text(-0.954567173677116, 0.546627396805249, 'Racing'),\n",
              "  Text(-1.0985333647633309, -0.05678420996857287, 'Sports'),\n",
              "  Text(-0.9121770331664059, -0.6147626047213135, 'Fighting'),\n",
              "  Text(-0.48404084189909297, -0.9877775373906907, 'Action'),\n",
              "  Text(0.036630841680584614, -1.0993899132872615, 'Misc'),\n",
              "  Text(0.516214008993608, -0.9713511707506959, 'Simulation'),\n",
              "  Text(0.8782731781575545, -0.6622961758375395, 'Puzzle'),\n",
              "  Text(1.0478305808047315, -0.33474030819490386, 'Strategy'),\n",
              "  Text(1.095456729784553, -0.0998726848028696, 'Adventure')],\n",
              " [Text(0.5356919565746959, 0.2702482704129188, '14.9%'),\n",
              "  Text(0.14375669699661164, 0.5825238296143982, '12.6%'),\n",
              "  Text(-0.26399445665786564, 0.5388013797810083, '9.6%'),\n",
              "  Text(-0.5206730038238814, 0.2981603982574085, '9.3%'),\n",
              "  Text(-0.5992000171436349, -0.03097320543740338, '8.9%'),\n",
              "  Text(-0.49755110899985766, -0.3353250571207164, '8.3%'),\n",
              "  Text(-0.26402227739950523, -0.5387877476676495, '8.3%'),\n",
              "  Text(0.019980459098500696, -0.5996672254294153, '7.3%'),\n",
              "  Text(0.2815712776328771, -0.5298279113185613, '7.2%'),\n",
              "  Text(0.4790580971768478, -0.36125245954774876, '6.7%'),\n",
              "  Text(0.5715439531662171, -0.18258562265176573, '4.1%'),\n",
              "  Text(0.5975218526097561, -0.054476009892474316, '2.9%')])"
            ]
          },
          "metadata": {},
          "execution_count": 201
        },
        {
          "output_type": "display_data",
          "data": {
            "text/plain": [
              "<Figure size 432x288 with 1 Axes>"
            ],
            "image/png": "[encoded data removed]"
          },
          "metadata": {}
        }
      ]
    },
    {
      "cell_type": "markdown",
      "source": [],
      "metadata": {
        "id": "fQ1w1dxs8VeA"
      }
    },
    {
      "cell_type": "markdown",
      "source": [
        "모든 국가에서 플랫폼 게임이 가장 인기가 많다는 것을 알 수 있다."
      ],
      "metadata": {
        "id": "AU4aiqOP8a7N"
      }
    }
  ]
}